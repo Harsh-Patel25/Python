{
  "nbformat": 4,
  "nbformat_minor": 0,
  "metadata": {
    "colab": {
      "provenance": [],
      "authorship_tag": "ABX9TyNUYj0IBggQcBXG9xSNo7Jy",
      "include_colab_link": true
    },
    "kernelspec": {
      "name": "python3",
      "display_name": "Python 3"
    },
    "language_info": {
      "name": "python"
    }
  },
  "cells": [
    {
      "cell_type": "markdown",
      "metadata": {
        "id": "view-in-github",
        "colab_type": "text"
      },
      "source": [
        "<a href=\"https://colab.research.google.com/github/Harsh-Patel25/Python/blob/main/daily_lessons/Day_5_Python_Operators.ipynb\" target=\"_parent\"><img src=\"https://colab.research.google.com/assets/colab-badge.svg\" alt=\"Open In Colab\"/></a>"
      ]
    },
    {
      "cell_type": "markdown",
      "source": [
        "\n",
        "# **🎯 Day-5 Lesson: Python Operators**\n",
        "\n",
        "Alright, Harsh! Let’s dive into **Day-5 Lesson: Python Operators** with a focus on both the fundamentals and some examples that you can relate to machine learning (ML) tasks.\n",
        "\n",
        "---\n",
        "\n",
        "## 📚 Lesson: Python Operators\n",
        "\n",
        "In Python, operators are symbols or keywords that perform operations on values (operands). They are categorized into several types. Today, we’ll cover:\n",
        "\n",
        "- **Logical Operators**\n",
        "- **Equality Operators**\n",
        "- **Comparison Operators**\n",
        "- **Arithmetic Operators**\n",
        "\n",
        "We’ll then see how these can be useful in ML-related tasks.\n",
        "\n",
        "---\n",
        "\n",
        "### 1️⃣ Logical Operators\n",
        "\n",
        "Logical operators are used to perform boolean (True/False) operations. In Python, the main logical operators are:\n",
        "\n",
        "| Keyword | Meaning           |\n",
        "|---------|-------------------|\n",
        "| `not`   | Unary negation    |\n",
        "| `and`   | Conditional AND   |\n",
        "| `or`    | Conditional OR    |\n",
        "\n",
        "#### **Examples:**\n",
        "\n",
        "- **Basic Boolean Logic:**"
      ],
      "metadata": {
        "id": "V1APFyWATzgM"
      }
    },
    {
      "cell_type": "code",
      "execution_count": null,
      "metadata": {
        "id": "MC1L4N00TpEk"
      },
      "outputs": [],
      "source": [
        "a = True\n",
        "  b = False\n",
        "\n",
        "  print(not a)       # Output: False\n",
        "  print(a and b)     # Output: False\n",
        "  print(a or b)      # Output: True"
      ]
    },
    {
      "cell_type": "markdown",
      "source": [
        "- **ML-Related Example:**\n",
        "  Imagine you have a dataset and you want to filter out rows where a feature value meets two conditions (e.g., a student’s score is above 80 and attendance is above 90%):"
      ],
      "metadata": {
        "id": "Q3AT0tiDT902"
      }
    },
    {
      "cell_type": "code",
      "source": [
        "  # Sample data for demonstration (in real scenarios, you'd use a pandas DataFrame)\n",
        "  student_scores = [85, 78, 92, 88]\n",
        "  student_attendance = [95, 85, 90, 92]\n",
        "\n",
        "  # Filtering using logical operators\n",
        "  eligible_students = []\n",
        "  for score, attendance in zip(student_scores, student_attendance):\n",
        "      if score > 80 and attendance > 90:\n",
        "          eligible_students.append((score, attendance))\n",
        "\n",
        "  print(\"Eligible students:\", eligible_students)\n",
        "  # Output: Eligible students: [(85, 95), (88, 92)]"
      ],
      "metadata": {
        "colab": {
          "base_uri": "https://localhost:8080/"
        },
        "id": "E8283MmRT-7D",
        "outputId": "8fad80dc-692a-4224-a157-0bd7eff4e401"
      },
      "execution_count": null,
      "outputs": [
        {
          "output_type": "stream",
          "name": "stdout",
          "text": [
            "Eligible students: [(85, 95), (88, 92)]\n"
          ]
        }
      ]
    },
    {
      "cell_type": "markdown",
      "source": [
        "### 2️⃣ Equality Operators\n",
        "\n",
        "Equality operators check if two values are equal or not.\n",
        "- `==` checks if two operands are equal.\n",
        "- `!=` checks if they are not equal."
      ],
      "metadata": {
        "id": "AGuNngw_Ucl8"
      }
    },
    {
      "cell_type": "code",
      "source": [
        "x = 5\n",
        "y = 10\n",
        "print(x == y)  # Output: False\n",
        "print(x != y)  # Output: True"
      ],
      "metadata": {
        "id": "PDtyqzTnUcP4"
      },
      "execution_count": null,
      "outputs": []
    },
    {
      "cell_type": "markdown",
      "source": [
        "- **ML-Related Example:**\n",
        "  When performing classification, you might compare predicted labels with actual labels:"
      ],
      "metadata": {
        "id": "JcJv6dFZUlrB"
      }
    },
    {
      "cell_type": "code",
      "source": [
        "if actual_label == predicted_label:\n",
        "      print(\"Prediction is correct!\")\n",
        "else:\n",
        "      print(\"Prediction is incorrect.\")"
      ],
      "metadata": {
        "id": "tqnlYUciUqrF"
      },
      "execution_count": null,
      "outputs": []
    },
    {
      "cell_type": "markdown",
      "source": [
        "### 3️⃣ Comparison Operators\n",
        "\n",
        "Comparison operators compare two values and return a boolean result:\n",
        "- `<`  : Less than  \n",
        "- `>`  : Greater than  \n",
        "- `<=` : Less than or equal to  \n",
        "- `>=` : Greater than or equal to"
      ],
      "metadata": {
        "id": "kyl5yF-LUx6P"
      }
    },
    {
      "cell_type": "code",
      "source": [
        "a = 7\n",
        "b = 10\n",
        "print(a < b)   # True\n",
        "print(a >= b)  # False"
      ],
      "metadata": {
        "id": "83rwZRVIUxQ5"
      },
      "execution_count": null,
      "outputs": []
    },
    {
      "cell_type": "markdown",
      "source": [
        "- **ML-Related Example:**\n",
        "  When normalizing data, you might check if a value lies within a certain range:"
      ],
      "metadata": {
        "id": "zzEbw842U-lc"
      }
    },
    {
      "cell_type": "code",
      "source": [
        "value = 75\n",
        "if value >= 0 and value <= 100:\n",
        "      print(\"Value is within the expected range (0-100).\")\n",
        "else:\n",
        "      print(\"Value is out of range!\")"
      ],
      "metadata": {
        "id": "ItJT3Se6VZYf"
      },
      "execution_count": null,
      "outputs": []
    },
    {
      "cell_type": "markdown",
      "source": [
        "### 4️⃣ Arithmetic Operators\n",
        "\n",
        "Arithmetic operators perform mathematical calculations.\n",
        "- `+` : Addition  \n",
        "- `-` : Subtraction  \n",
        "- `*` : Multiplication  \n",
        "- `/` : Division  \n",
        "- `%` : Modulus (remainder)  \n",
        "- `**`: Exponentiation  \n",
        "- `//`: Floor Division  \n",
        "\n",
        "#### **Examples:**"
      ],
      "metadata": {
        "id": "8ZvSVjeaVm7W"
      }
    },
    {
      "cell_type": "code",
      "source": [
        "x = 8\n",
        "y = 3\n",
        "print(x + y)   # 11\n",
        "print(x - y)   # 5\n",
        "print(x * y)   # 24\n",
        "print(x / y)   # 2.666...\n",
        "print(x % y)   # 2\n",
        "print(x ** y)  # 512 (8 raised to the power 3)\n",
        "print(x // y)  # 2"
      ],
      "metadata": {
        "id": "5r8QuyErVoHp"
      },
      "execution_count": null,
      "outputs": []
    },
    {
      "cell_type": "markdown",
      "source": [
        "- **ML-Related Example:**\n",
        "  In ML, arithmetic operations are often used in algorithms (e.g., calculating error, updating weights in gradient descent):"
      ],
      "metadata": {
        "id": "QJM0K4llVs8A"
      }
    },
    {
      "cell_type": "code",
      "source": [
        "# Example: A simple gradient descent update step (conceptual)\n",
        "weight = 0.5\n",
        "learning_rate = 0.1\n",
        "gradient = 0.05  # this would normally be computed from your loss function\n",
        "\n",
        "# Update the weight\n",
        "weight = weight - learning_rate * gradient\n",
        "print(\"Updated weight:\", weight)"
      ],
      "metadata": {
        "id": "-C4v9kkoWf5k"
      },
      "execution_count": null,
      "outputs": []
    }
  ]
}