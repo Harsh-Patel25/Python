{
  "cells": [
    {
      "cell_type": "markdown",
      "metadata": {
        "id": "view-in-github",
        "colab_type": "text"
      },
      "source": [
        "<a href=\"https://colab.research.google.com/github/Harsh-Patel25/Python/blob/main/daily_lessons/Day7_0_Data_Structures.ipynb\" target=\"_parent\"><img src=\"https://colab.research.google.com/assets/colab-badge.svg\" alt=\"Open In Colab\"/></a>"
      ]
    },
    {
      "cell_type": "markdown",
      "id": "6fd54ce0",
      "metadata": {
        "id": "6fd54ce0"
      },
      "source": [
        "# 📚 Day‑7 Lesson: Python Data Structures and Boolean\n",
        "\n",
        "---"
      ]
    },
    {
      "cell_type": "markdown",
      "id": "b8aa7dc9",
      "metadata": {
        "id": "b8aa7dc9"
      },
      "source": [
        "## 1. Boolean & Boolean Variables\n",
        "\n",
        "**Basics:**\n",
        "- Booleans are the two constant objects in Python: `True` and `False`.\n",
        "- In numeric contexts, `True` behaves like `1` and `False` like `0`."
      ]
    },
    {
      "cell_type": "code",
      "execution_count": null,
      "id": "82a2048d",
      "metadata": {
        "id": "82a2048d"
      },
      "outputs": [],
      "source": [
        "\n",
        "print(True, False)  # Output: True False\n",
        "print(type(True))   # Output: <class 'bool'>\n",
        "print(type(False))  # Output: <class 'bool'>\n",
        "\n",
        "print(bool(0))      # Output: False (0 is false)\n",
        "print(bool(123))    # Output: True (non-zero is true)\n",
        "print(bool(\"\"))     # Output: False (empty string is false)\n",
        "print(bool(\"Hello\"))# Output: True\n",
        "\n",
        "normalize = True\n",
        "if normalize:\n",
        "    # Proceed to normalize data\n",
        "    print(\"Data normalization activated\")\n",
        "else:\n",
        "    print(\"Skipping normalization\")\n"
      ]
    },
    {
      "cell_type": "markdown",
      "id": "b22b1d8c",
      "metadata": {
        "id": "b22b1d8c"
      },
      "source": [
        "## 2. Boolean and Logical Operators\n",
        "\n",
        "**Operators:**\n",
        "- `and`: Returns True if both operands are True.\n",
        "- `or`: Returns True if at least one operand is True.\n",
        "- `not`: Inverts the Boolean value."
      ]
    },
    {
      "cell_type": "code",
      "execution_count": null,
      "id": "1f64fcc7",
      "metadata": {
        "id": "1f64fcc7"
      },
      "outputs": [],
      "source": [
        "\n",
        "a = True\n",
        "b = False\n",
        "print(a and b)  # False\n",
        "print(a or b)   # True\n",
        "print(not a)    # False\n",
        "\n",
        "x = 10\n",
        "y = 20\n",
        "if x < y and x > 0:\n",
        "    print(\"x is less than y and positive\")\n",
        "\n",
        "age = 45\n",
        "bp = 130\n",
        "if age > 40 and bp > 120:\n",
        "    print(\"High risk patient\")\n",
        "else:\n",
        "    print(\"Low risk patient\")\n",
        "\n",
        "my_str = \"Krish123\"\n",
        "result = my_str.isalnum() or my_str.istitle()\n",
        "print(result)  # True because \"Krish123\" is alphanumeric\n"
      ]
    },
    {
      "cell_type": "markdown",
      "id": "a9a46ba0",
      "metadata": {
        "id": "a9a46ba0"
      },
      "source": [
        "## 3. Lists\n",
        "\n",
        "**Definition:**\n",
        "- A list is an ordered, mutable collection of elements.\n",
        "- Lists are defined with square brackets `[]`."
      ]
    },
    {
      "cell_type": "code",
      "execution_count": null,
      "id": "0226bc24",
      "metadata": {
        "id": "0226bc24"
      },
      "outputs": [],
      "source": [
        "\n",
        "lst = [1, 2, 3, \"Krish\", 100]\n",
        "print(lst)         # [1, 2, 3, 'Krish', 100]\n",
        "print(lst[0])      # 1\n",
        "print(lst[1:4])    # [2, 3, 'Krish']\n",
        "\n",
        "lst[3] = \"Naik\"\n",
        "print(lst)         # [1, 2, 3, 'Naik', 100]\n",
        "\n",
        "lst.append(\"New Element\")\n",
        "print(lst)\n",
        "\n",
        "lst.insert(2, \"Inserted Element\")\n",
        "print(lst)\n",
        "\n",
        "lst.extend([200, 300])\n",
        "print(lst)\n",
        "\n",
        "popped_item = lst.pop()\n",
        "print(\"Popped:\", popped_item)\n",
        "\n",
        "numbers = [1, 2, 3, 4, 5]\n",
        "for num in numbers:\n",
        "    print(num ** 2)\n",
        "\n",
        "iris_features = [5.1, 3.5, 1.4, 0.2]\n",
        "iris_dataset = [\n",
        "    [5.1, 3.5, 1.4, 0.2],\n",
        "    [4.9, 3.0, 1.4, 0.2],\n",
        "    [6.2, 3.4, 5.4, 2.3]\n",
        "]\n"
      ]
    },
    {
      "cell_type": "markdown",
      "id": "e11df816",
      "metadata": {
        "id": "e11df816"
      },
      "source": [
        "## 4. Comparison Operators\n",
        "\n",
        "**Definition:**\n",
        "- Operators like `<`, `>`, `<=`, `>=`, `==`, and `!=` compare values and return a Boolean result."
      ]
    },
    {
      "cell_type": "code",
      "execution_count": null,
      "id": "ff83084d",
      "metadata": {
        "id": "ff83084d"
      },
      "outputs": [],
      "source": [
        "\n",
        "print(5 < 10)   # True\n",
        "print(5 == 5)   # True\n",
        "print(7 != 5)   # True\n",
        "\n",
        "lst = [1, 2, 3, 4, 5]\n",
        "print(min(lst))  # 1\n",
        "print(max(lst))  # 5\n",
        "\n",
        "threshold = 50\n",
        "value = 65\n",
        "if value > threshold:\n",
        "    print(\"Above threshold\")\n",
        "else:\n",
        "    print(\"Below threshold\")\n"
      ]
    },
    {
      "cell_type": "markdown",
      "id": "65843074",
      "metadata": {
        "id": "65843074"
      },
      "source": [
        "## 5. Dictionaries\n",
        "\n",
        "**Definition:**\n",
        "- A dictionary stores key-value pairs and is defined with curly braces `{}`.\n",
        "- Dictionaries are unordered and mutable."
      ]
    },
    {
      "cell_type": "code",
      "execution_count": null,
      "id": "16f36400",
      "metadata": {
        "id": "16f36400"
      },
      "outputs": [],
      "source": [
        "\n",
        "student = {\"name\": \"Krish\", \"age\": 20, \"grade\": \"A\"}\n",
        "print(student[\"name\"])  # Output: Krish\n",
        "\n",
        "for key in student:\n",
        "    print(key)\n",
        "\n",
        "for value in student.values():\n",
        "    print(value)\n",
        "\n",
        "for key, value in student.items():\n",
        "    print(key, \":\", value)\n",
        "\n",
        "student[\"grade\"] = \"A+\"\n",
        "student[\"city\"] = \"Mumbai\"  # Adding a new key-value pair\n",
        "print(student)\n",
        "\n",
        "cars = {\n",
        "    \"Car1\": {\"model\": \"Audi\", \"year\": 2010},\n",
        "    \"Car2\": {\"model\": \"BMW\", \"year\": 2012}\n",
        "}\n",
        "print(cars[\"Car1\"][\"model\"])  # Output: Audi\n",
        "\n",
        "data_point = {\"sepal_length\": 5.1, \"sepal_width\": 3.5, \"petal_length\": 1.4, \"petal_width\": 0.2}\n"
      ]
    },
    {
      "cell_type": "markdown",
      "id": "2088584b",
      "metadata": {
        "id": "2088584b"
      },
      "source": [
        "## 6. Tuples\n",
        "\n",
        "**Definition:**\n",
        "- A tuple is an ordered, immutable collection.\n",
        "- Tuples are defined using parentheses `()`."
      ]
    },
    {
      "cell_type": "code",
      "execution_count": null,
      "id": "556fe6fb",
      "metadata": {
        "id": "556fe6fb"
      },
      "outputs": [],
      "source": [
        "\n",
        "my_tuple = (1, 2, 3, \"Krish\")\n",
        "print(my_tuple)  # (1, 2, 3, 'Krish')\n",
        "print(my_tuple[0])  # 1\n",
        "\n",
        "print(my_tuple.count(1))  # Output: 1\n",
        "print(my_tuple.index(\"Krish\"))\n",
        "\n",
        "image_shape = (28, 28)  # For a grayscale image of size 28x28\n"
      ]
    },
    {
      "cell_type": "markdown",
      "id": "beb0b093",
      "metadata": {
        "id": "beb0b093"
      },
      "source": [
        "## 7. Sets\n",
        "\n",
        "**Definition:**\n",
        "- A set is an unordered collection of unique elements.\n",
        "- Defined using curly braces `{}` or the `set()` function."
      ]
    },
    {
      "cell_type": "code",
      "execution_count": null,
      "id": "4c2d4a1b",
      "metadata": {
        "id": "4c2d4a1b"
      },
      "outputs": [],
      "source": [
        "\n",
        "my_set = {1, 2, 3, 3, 4}\n",
        "print(my_set)  # Output: {1, 2, 3, 4}\n",
        "\n",
        "set1 = {1, 2, 3}\n",
        "set2 = {2, 3, 4}\n",
        "print(set1.intersection(set2))  # Output: {2, 3}\n",
        "print(set1.union(set2))  # Output: {1, 2, 3, 4}\n",
        "print(set1.difference(set2))  # Output: {1}\n",
        "\n",
        "labels = [\"cat\", \"dog\", \"cat\", \"bird\"]\n",
        "unique_labels = set(labels)\n",
        "print(unique_labels)  # Output: {'dog', 'cat', 'bird'}\n"
      ]
    },
    {
      "cell_type": "markdown",
      "id": "e9a63281",
      "metadata": {
        "id": "e9a63281"
      },
      "source": [
        "## Bringing It All Together – Mini ML Project Example\n",
        "\n",
        "Imagine you have a dataset of student records stored as dictionaries and you want to filter the students who meet certain criteria, then analyze the data."
      ]
    },
    {
      "cell_type": "code",
      "execution_count": null,
      "id": "45df74e5",
      "metadata": {
        "id": "45df74e5"
      },
      "outputs": [],
      "source": [
        "\n",
        "students = [\n",
        "    {\"name\": \"Krish\", \"age\": 20, \"score\": 85, \"passed\": True},\n",
        "    {\"name\": \"Ankur\", \"age\": 19, \"score\": 65, \"passed\": False},\n",
        "    {\"name\": \"John\", \"age\": 21, \"score\": 90, \"passed\": True},\n",
        "    {\"name\": \"Bala\", \"age\": 22, \"score\": 70, \"passed\": False}\n",
        "]\n",
        "\n",
        "passed_students = [student for student in students if student[\"passed\"]]\n",
        "scores = [student[\"score\"] for student in passed_students]\n",
        "average_score = sum(scores) / len(scores) if scores else 0\n",
        "\n",
        "print(\"Passed Students:\", passed_students)\n",
        "print(\"Average Score of Passed Students:\", average_score)\n"
      ]
    },
    {
      "cell_type": "markdown",
      "id": "1f1fa923",
      "metadata": {
        "id": "1f1fa923"
      },
      "source": [
        "## Summary\n",
        "\n",
        "- Booleans help represent truth values and drive conditional logic.\n",
        "- Logical Operators (`and`, `or`, `not`) build complex conditions—useful in data filtering.\n",
        "- Lists are dynamic, ordered collections used to store and iterate over datasets.\n",
        "- Comparison Operators enable decision-making by comparing values.\n",
        "- Dictionaries map keys to values and are essential for structured data.\n",
        "- Tuples offer immutable collections, great for fixed records.\n",
        "- Sets handle unique elements and support fast membership testing."
      ]
    }
  ],
  "metadata": {
    "colab": {
      "provenance": [],
      "include_colab_link": true
    }
  },
  "nbformat": 4,
  "nbformat_minor": 5
}