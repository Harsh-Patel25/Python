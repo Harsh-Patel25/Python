{
  "nbformat": 4,
  "nbformat_minor": 0,
  "metadata": {
    "colab": {
      "provenance": [],
      "authorship_tag": "ABX9TyO/RHH76gDh6XX8LF4lKUrM",
      "include_colab_link": true
    },
    "kernelspec": {
      "name": "python3",
      "display_name": "Python 3"
    },
    "language_info": {
      "name": "python"
    }
  },
  "cells": [
    {
      "cell_type": "markdown",
      "metadata": {
        "id": "view-in-github",
        "colab_type": "text"
      },
      "source": [
        "<a href=\"https://colab.research.google.com/github/Harsh-Patel25/Python/blob/main/daily_lessons/Day_4_Functions.ipynb\" target=\"_parent\"><img src=\"https://colab.research.google.com/assets/colab-badge.svg\" alt=\"Open In Colab\"/></a>"
      ]
    },
    {
      "cell_type": "markdown",
      "source": [
        "\n",
        "### **📚 Day 4: Functions in Python**\n",
        "\n",
        "#### **1. Functions:**\n",
        "Functions ka use repetitive tasks ko simplify karne ke liye hota hai. Tum function likh kar ek specific task ko baar-baar use kar sakte ho without repeating code.\n",
        "\n",
        "**Function Syntax:**\n",
        "```python\n",
        "def function_name(parameters):\n",
        "    # code block\n",
        "    return value\n",
        "```"
      ],
      "metadata": {
        "id": "Q0ob4z2NTBw9"
      }
    },
    {
      "cell_type": "code",
      "execution_count": null,
      "metadata": {
        "id": "GNNzKb_wS9Zl"
      },
      "outputs": [],
      "source": [
        "def greet(name):\n",
        "    return \"Hello, \" + name\n",
        "\n",
        "print(greet(\"Harsh\"))"
      ]
    },
    {
      "cell_type": "markdown",
      "source": [
        "#### **2. Parameters and Arguments:**\n",
        "- **Parameters**: Function me jo variables define karte ho, unhe parameters kaha jata hai.\n",
        "- **Arguments**: Jab function ko call karte ho, to jo values pass karte ho, unhe arguments kaha jata hai.\n",
        "\n",
        "#### **3. Return Statement:**\n",
        "- Function se koi value return karne ke liye **`return`** ka use hota hai.\n",
        "\n",
        "#### **4. Function with Multiple Parameters:**"
      ],
      "metadata": {
        "id": "TeZsQYBFTPJj"
      }
    },
    {
      "cell_type": "code",
      "source": [
        "def add(a, b):\n",
        "    return a + b\n",
        "\n",
        "print(add(5, 10))  # Output: 15"
      ],
      "metadata": {
        "id": "zbXApV9eTSv5"
      },
      "execution_count": null,
      "outputs": []
    },
    {
      "cell_type": "markdown",
      "source": [
        "#### **5. Default Arguments:**\n",
        "Agar function me kuch default values chahte ho, toh unhe set kar sakte ho."
      ],
      "metadata": {
        "id": "YUbRiQuoTcA_"
      }
    },
    {
      "cell_type": "code",
      "source": [
        "def greet(name=\"Guest\"):\n",
        "    return \"Hello, \" + name\n",
        "\n",
        "print(greet())       # Output: Hello, Guest\n",
        "print(greet(\"Harsh\")) # Output: Hello, Harsh"
      ],
      "metadata": {
        "id": "Ddk-4hHpTexF"
      },
      "execution_count": null,
      "outputs": []
    }
  ]
}