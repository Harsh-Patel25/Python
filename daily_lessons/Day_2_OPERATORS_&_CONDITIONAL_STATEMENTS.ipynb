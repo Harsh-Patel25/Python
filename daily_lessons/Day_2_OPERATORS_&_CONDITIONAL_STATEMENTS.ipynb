{
  "nbformat": 4,
  "nbformat_minor": 0,
  "metadata": {
    "colab": {
      "provenance": [],
      "authorship_tag": "ABX9TyNk0dB6O/Y2jSsczCkh6/0u",
      "include_colab_link": true
    },
    "kernelspec": {
      "name": "python3",
      "display_name": "Python 3"
    },
    "language_info": {
      "name": "python"
    }
  },
  "cells": [
    {
      "cell_type": "markdown",
      "metadata": {
        "id": "view-in-github",
        "colab_type": "text"
      },
      "source": [
        "<a href=\"https://colab.research.google.com/github/Harsh-Patel25/Python/blob/main/daily_lessons/Day_2_OPERATORS_%26_CONDITIONAL_STATEMENTS.ipynb\" target=\"_parent\"><img src=\"https://colab.research.google.com/assets/colab-badge.svg\" alt=\"Open In Colab\"/></a>"
      ]
    },
    {
      "cell_type": "markdown",
      "source": [
        "\n",
        "# **📚 DAY-2 LESSON: PYTHON - OPERATORS & CONDITIONAL STATEMENTS**\n",
        "\n",
        "### **1. Operators in Python**\n",
        "Operators ka use kisi bhi **operation ko perform** karne ke liye hota hai, jaise addition, subtraction, multiplication, etc.\n",
        "\n",
        "**Types of Operators:**\n",
        "- **Arithmetic Operators** ( +, -, *, /, %, **, // )\n",
        "- **Comparison Operators** ( ==, !=, <, >, <=, >= )\n",
        "- **Logical Operators** ( and, or, not )\n",
        "- **Assignment Operators** ( =, +=, -=, *=, /= )\n",
        "\n",
        "---\n",
        "\n",
        "#### **🔹 Arithmetic Operators Example:**\n",
        "Arithmetic operators basic mathematical operations ko perform karte hain. Yeh operators **addition**, **subtraction**, **multiplication**, **division** etc. karte hain."
      ],
      "metadata": {
        "id": "7d5kiU9KNrlD"
      }
    },
    {
      "cell_type": "code",
      "execution_count": null,
      "metadata": {
        "id": "8uTr6tD_Nh2W"
      },
      "outputs": [],
      "source": [
        "x = 10\n",
        "y = 5\n",
        "\n",
        "sum_result = x + y  # Addition (10 + 5 = 15)\n",
        "diff_result = x - y  # Subtraction (10 - 5 = 5)\n",
        "prod_result = x * y  # Multiplication (10 * 5 = 50)\n",
        "div_result = x / y  # Division (10 / 5 = 2.0)\n",
        "mod_result = x % y  # Modulus (remainder) (10 % 5 = 0)\n",
        "exp_result = x ** y  # Exponentiation (10 ** 5 = 100000)\n",
        "int_div_result = x // y  # Integer Division (10 // 5 = 2)"
      ]
    },
    {
      "cell_type": "markdown",
      "source": [
        "#### **🔹 Comparison Operators Example:**\n",
        "Comparison operators values ko compare karte hain aur boolean result (True/False) return karte hain"
      ],
      "metadata": {
        "id": "yRnldiinNySv"
      }
    },
    {
      "cell_type": "code",
      "source": [
        "x = 10\n",
        "y = 5\n",
        "print(x == y)  # False (10 == 5 nahi hota)\n",
        "print(x != y)  # True (10 != 5 hota hai)\n",
        "print(x < y)   # False (10 < 5 nahi hota)\n",
        "print(x > y)   # True (10 > 5 hota hai)\n",
        "print(x <= y)  # False (10 <= 5 nahi hota)\n",
        "print(x >= y)  # True (10 >= 5 hota hai)\n",
        "```"
      ],
      "metadata": {
        "id": "-xoep1VbNzRO"
      },
      "execution_count": null,
      "outputs": []
    },
    {
      "cell_type": "markdown",
      "source": [
        "#### **🔹 Logical Operators Example:**\n",
        "Logical operators ko use karke hum multiple conditions ko combine karte hain."
      ],
      "metadata": {
        "id": "1bUJP7V8N244"
      }
    },
    {
      "cell_type": "code",
      "source": [
        "x = True\n",
        "y = False\n",
        "print(x and y)  # False (Dono True nahi hain)\n",
        "print(x or y)   # True (Ek True hai, to result True hoga)\n",
        "print(not x)    # False (x True hai, to not x False hoga)"
      ],
      "metadata": {
        "id": "9JAvW7o_N2eY"
      },
      "execution_count": null,
      "outputs": []
    },
    {
      "cell_type": "markdown",
      "source": [
        "#### **🔹 Assignment Operators Example:**\n",
        "Assignment operators values ko assign karte hain, ya ek value ko update karte hain."
      ],
      "metadata": {
        "id": "9VfRi-lWOA2r"
      }
    },
    {
      "cell_type": "code",
      "source": [
        "x = 10   # x ko 10 assign kiya\n",
        "x += 5   # x = x + 5 (x ab 15 ho gaya)\n",
        "x -= 3   # x = x - 3 (x ab 12 ho gaya)\n",
        "x *= 2   # x = x * 2 (x ab 24 ho gaya)\n",
        "x /= 4   # x = x / 4 (x ab 6 ho gaya)"
      ],
      "metadata": {
        "colab": {
          "base_uri": "https://localhost:8080/"
        },
        "id": "kO13fTS3OD0h",
        "outputId": "2f7391c3-3e63-4579-e28f-964a5081cd36"
      },
      "execution_count": null,
      "outputs": [
        {
          "output_type": "stream",
          "name": "stdout",
          "text": [
            "6.0\n"
          ]
        }
      ]
    },
    {
      "cell_type": "markdown",
      "source": [
        "### **2. Conditional Statements in Python**\n",
        "Conditional statements ka use decision making ke liye hota hai. Matlab agar ek condition true ho toh kuch execute karo, agar false ho toh kuch aur.\n"
      ],
      "metadata": {
        "id": "XsZ7WmrpObOY"
      }
    },
    {
      "cell_type": "code",
      "source": [
        "#### **If-Else Statement Example:**\n",
        "\n",
        "x = 10\n",
        "if x > 5:\n",
        "    print(\"x is greater than 5\")\n",
        "else:\n",
        "    print(\"x is less than or equal to 5\")\n",
        "\n",
        "\n",
        "#### **🔹 Elif Statement Example:**\n",
        "\n",
        "x = 10\n",
        "if x < 5:\n",
        "    print(\"x is less than 5\")\n",
        "elif x == 10:\n",
        "    print(\"x is 10\")\n",
        "else:\n",
        "    print(\"x is greater than 5\")"
      ],
      "metadata": {
        "id": "ymnD6Rb6OcPp"
      },
      "execution_count": null,
      "outputs": []
    }
  ]
}