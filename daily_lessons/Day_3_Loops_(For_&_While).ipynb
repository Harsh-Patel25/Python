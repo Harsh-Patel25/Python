{
  "nbformat": 4,
  "nbformat_minor": 0,
  "metadata": {
    "colab": {
      "provenance": [],
      "authorship_tag": "ABX9TyPaGRxBh0vIh/+33lMUKZLr",
      "include_colab_link": true
    },
    "kernelspec": {
      "name": "python3",
      "display_name": "Python 3"
    },
    "language_info": {
      "name": "python"
    }
  },
  "cells": [
    {
      "cell_type": "markdown",
      "metadata": {
        "id": "view-in-github",
        "colab_type": "text"
      },
      "source": [
        "<a href=\"https://colab.research.google.com/github/Harsh-Patel25/Python/blob/main/daily_lessons/Day_3_Loops_(For_%26_While).ipynb\" target=\"_parent\"><img src=\"https://colab.research.google.com/assets/colab-badge.svg\" alt=\"Open In Colab\"/></a>"
      ]
    },
    {
      "cell_type": "markdown",
      "source": [
        "# **📚 Day-3 Lesson: Python - Loops (For & While)**\n",
        "\n",
        "### **1. For Loop**\n",
        "For loop ka use **iterable objects** (like lists, tuples, strings) par iterate karne ke liye hota hai. Yeh loop fixed number of times run hota hai.\n",
        "\n",
        "**Syntax:**\n",
        "```python\n",
        "for variable in iterable:\n",
        "    # code block\n",
        "```"
      ],
      "metadata": {
        "id": "xtBzkILjO7_l"
      }
    },
    {
      "cell_type": "code",
      "source": [
        "fruits = [\"Apple\", \"Banana\", \"Orange\"]\n",
        "for fruit in fruits:\n",
        "    print(fruit)"
      ],
      "metadata": {
        "id": "eoLTs010PKHO"
      },
      "execution_count": null,
      "outputs": []
    },
    {
      "cell_type": "markdown",
      "source": [
        "### **2. While Loop**\n",
        "While loop tab tak run hota hai jab tak ek condition true rehti hai. Yeh condition **infinite** bhi ho sakti hai agar condition kabhi false na ho.\n",
        "\n",
        "**Syntax:**\n",
        "```python\n",
        "while condition:\n",
        "    # code block\n",
        "```"
      ],
      "metadata": {
        "id": "iXu2xBJ_PXqn"
      }
    },
    {
      "cell_type": "code",
      "source": [
        "i = 0\n",
        "while i < 5:\n",
        "    print(i)\n",
        "    i += 1"
      ],
      "metadata": {
        "id": "u8NgBbVCPNrk"
      },
      "execution_count": null,
      "outputs": []
    },
    {
      "cell_type": "markdown",
      "source": [
        "### **Break and Continue:**\n",
        "- **Break:** Loop ko turant break karne ke liye use hota hai.\n",
        "- **Continue:** Ek iteration ko skip karke next iteration pe move karne ke liye use hota hai."
      ],
      "metadata": {
        "id": "9vcpxglRPjxj"
      }
    },
    {
      "cell_type": "markdown",
      "source": [
        "**Example with Break:**"
      ],
      "metadata": {
        "id": "11uoHsgaSoCk"
      }
    },
    {
      "cell_type": "code",
      "source": [
        "for i in range(10):\n",
        "    if i == 5:\n",
        "        break\n",
        "    print(i)"
      ],
      "metadata": {
        "id": "5OdvWGaqPN-d"
      },
      "execution_count": null,
      "outputs": []
    },
    {
      "cell_type": "markdown",
      "source": [
        "**Example with Continue:**"
      ],
      "metadata": {
        "id": "T7_mRxYgQFr7"
      }
    },
    {
      "cell_type": "code",
      "source": [
        "for i in range(10):\n",
        "    if i == 5:\n",
        "        continue\n",
        "    print(i)"
      ],
      "metadata": {
        "id": "WqSbyGXXQDPz"
      },
      "execution_count": null,
      "outputs": []
    },
    {
      "cell_type": "markdown",
      "source": [],
      "metadata": {
        "id": "b96_l2ghQKZZ"
      }
    }
  ]
}